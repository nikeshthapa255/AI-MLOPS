{
  "cells": [
    {
      "cell_type": "markdown",
      "metadata": {
        "id": "view-in-github",
        "colab_type": "text"
      },
      "source": [
        "<a href=\"https://colab.research.google.com/github/nikeshthapa255/AI-MLOPS/blob/main/M1_NB_MiniProject_2_Structured_Data_Classification.ipynb\" target=\"_parent\"><img src=\"https://colab.research.google.com/assets/colab-badge.svg\" alt=\"Open In Colab\"/></a>"
      ]
    },
    {
      "cell_type": "markdown",
      "metadata": {
        "id": "hTplQkOMsKhd"
      },
      "source": [
        "# Advanced Certification Programme in AI and MLOps\n",
        "## A programme by IISc and TalentSprint\n",
        "### Mini-Project Notebook: Structured Data Classification"
      ]
    },
    {
      "cell_type": "markdown",
      "metadata": {
        "id": "SZlu0P9jj_ei"
      },
      "source": [
        "## Problem Statement"
      ]
    },
    {
      "cell_type": "markdown",
      "metadata": {
        "id": "3xaJosu2kfGE"
      },
      "source": [
        "To predict whether a patient has a heart disease."
      ]
    },
    {
      "cell_type": "markdown",
      "metadata": {
        "id": "8N0iS4ipU_XM"
      },
      "source": [
        "## Learning Objectives"
      ]
    },
    {
      "cell_type": "markdown",
      "metadata": {
        "id": "K8OXq65pVDDS"
      },
      "source": [
        "At the end of the experiment, you will be able to\n",
        "\n",
        "* Understand the Cleveland Clinic Foundation Heart Disease dataset\n",
        "* Pre-process this dataset using Keras layers: IntegerLookup, StringLookup & Normalization\n",
        "* Understand and use Keras concatenate layer\n",
        "* Build a neural network model and architecture using Keras functional api\n",
        "* Predict an unseen data"
      ]
    },
    {
      "cell_type": "markdown",
      "source": [
        "## Introduction\n",
        "\n",
        "This example demonstrates how to do structured data classification, starting from a raw\n",
        "CSV file. Our data includes both numerical and categorical features. We will use Keras\n",
        "preprocessing layers to normalize the numerical features and vectorize the categorical\n",
        "ones.\n",
        "\n",
        "Note that this example should be run with TensorFlow 2.5 or higher."
      ],
      "metadata": {
        "id": "5zBPlw87J9cF"
      }
    },
    {
      "cell_type": "markdown",
      "metadata": {
        "id": "bScMHnbIaxsQ"
      },
      "source": [
        "## Dataset\n",
        "\n",
        "[Our dataset](https://archive.ics.uci.edu/ml/datasets/heart+Disease) is provided by the\n",
        "Cleveland Clinic Foundation for Heart Disease.\n",
        "It's a CSV file with 303 rows. Each row contains information about a patient (a\n",
        "**sample**), and each column describes an attribute of the patient (a **feature**). We\n",
        "use the features to predict whether a patient has a heart disease (**binary\n",
        "classification**).\n",
        "\n",
        "Here's the description of each feature:\n",
        "<br><br>\n",
        "\n",
        "Column| Description| Feature Type\n",
        "------------|--------------------|----------------------\n",
        "Age | Age in years | Numerical\n",
        "Sex | (1 = male; 0 = female) | Categorical\n",
        "CP | Chest pain type (0, 1, 2, 3, 4) | Categorical\n",
        "Trestbpd | Resting blood pressure (in mm Hg on admission) | Numerical\n",
        "Chol | Serum cholesterol in mg/dl | Numerical\n",
        "FBS | fasting blood sugar in 120 mg/dl (1 = true; 0 = false) | Categorical\n",
        "RestECG | Resting electrocardiogram results (0, 1, 2) | Categorical\n",
        "Thalach | Maximum heart rate achieved | Numerical\n",
        "Exang | Exercise induced angina (1 = yes; 0 = no) | Categorical\n",
        "Oldpeak | ST depression induced by exercise relative to rest | Numerical\n",
        "Slope | Slope of the peak exercise ST segment | Numerical\n",
        "CA | Number of major vessels (0-3) colored by fluoroscopy | Both numerical & categorical\n",
        "Thal | 3 = normal; 6 = fixed defect; 7 = reversible defect | Categorical\n",
        "Target | Diagnosis of heart disease (1 = true; 0 = false) | Target\n",
        "\n",
        "<br><br>"
      ]
    },
    {
      "cell_type": "code",
      "execution_count": 1,
      "metadata": {
        "id": "812a816f",
        "colab": {
          "base_uri": "https://localhost:8080/"
        },
        "outputId": "d2da231b-b6cc-4d40-de32-f94e4903e9ff"
      },
      "outputs": [
        {
          "output_type": "stream",
          "name": "stdout",
          "text": [
            "Data Downloaded Successfuly!!\n"
          ]
        }
      ],
      "source": [
        "#@title Download the data\n",
        "!wget -qq https://cdn.iisc.talentsprint.com/AIandMLOps/Datasets/heart.csv\n",
        "print(\"Data Downloaded Successfuly!!\")"
      ]
    },
    {
      "cell_type": "markdown",
      "metadata": {
        "id": "operating-latter"
      },
      "source": [
        "## Grading = 10 Points"
      ]
    },
    {
      "cell_type": "markdown",
      "metadata": {
        "id": "1TmXyc2bRFvM"
      },
      "source": [
        "### Import Required Packages"
      ]
    },
    {
      "cell_type": "code",
      "execution_count": 2,
      "metadata": {
        "id": "MK4EbY6xaxsR"
      },
      "outputs": [],
      "source": [
        "import tensorflow as tf\n",
        "import numpy as np\n",
        "import pandas as pd\n",
        "from tensorflow import keras\n",
        "from tensorflow.keras import layers\n",
        "from tensorflow.keras.layers import IntegerLookup     # Used in Feature processing\n",
        "from tensorflow.keras.layers import Normalization     # Used in Feature processing\n",
        "from tensorflow.keras.layers import StringLookup      # Used in Feature processing"
      ]
    },
    {
      "cell_type": "markdown",
      "source": [
        "# Part A"
      ],
      "metadata": {
        "id": "-tBU6ZMlW0My"
      }
    },
    {
      "cell_type": "markdown",
      "metadata": {
        "id": "zWmEGCqDaxsS"
      },
      "source": [
        "## Load the data and create batches [2 Marks]"
      ]
    },
    {
      "cell_type": "markdown",
      "source": [
        "### Load data into a Pandas dataframe\n",
        "\n",
        "Hint:: pd.read_csv"
      ],
      "metadata": {
        "id": "V7IEMgJ8jnGr"
      }
    },
    {
      "cell_type": "code",
      "execution_count": 3,
      "metadata": {
        "id": "6N7lrEsZaxsT"
      },
      "outputs": [],
      "source": [
        "file_url = \"/content/heart.csv\"\n",
        "df = pd.read_csv(file_url)"
      ]
    },
    {
      "cell_type": "markdown",
      "metadata": {
        "id": "M-f50aCJaxsT"
      },
      "source": [
        "Check the shape of the dataset:"
      ]
    },
    {
      "cell_type": "code",
      "execution_count": 4,
      "metadata": {
        "id": "nrNUOPFVaxsT",
        "colab": {
          "base_uri": "https://localhost:8080/"
        },
        "outputId": "ecbd6f76-857f-4250-d391-a150296aca94"
      },
      "outputs": [
        {
          "output_type": "execute_result",
          "data": {
            "text/plain": [
              "(303, 14)"
            ]
          },
          "metadata": {},
          "execution_count": 4
        }
      ],
      "source": [
        "df.shape"
      ]
    },
    {
      "cell_type": "markdown",
      "metadata": {
        "id": "ptTMb_dsaxsU"
      },
      "source": [
        "Check the preview of a few samples:\n",
        "\n",
        "Hint:: head()"
      ]
    },
    {
      "cell_type": "code",
      "execution_count": 5,
      "metadata": {
        "id": "zHjlz0HhaxsU",
        "colab": {
          "base_uri": "https://localhost:8080/",
          "height": 206
        },
        "outputId": "9bf019c7-649b-495e-ab2f-4a360c42ab87"
      },
      "outputs": [
        {
          "output_type": "execute_result",
          "data": {
            "text/plain": [
              "   age  sex  cp  trestbps  chol  fbs  restecg  thalach  exang  oldpeak  slope  \\\n",
              "0   63    1   1       145   233    1        2      150      0      2.3      3   \n",
              "1   67    1   4       160   286    0        2      108      1      1.5      2   \n",
              "2   67    1   4       120   229    0        2      129      1      2.6      2   \n",
              "3   37    1   3       130   250    0        0      187      0      3.5      3   \n",
              "4   41    0   2       130   204    0        2      172      0      1.4      1   \n",
              "\n",
              "   ca        thal  target  \n",
              "0   0       fixed       0  \n",
              "1   3      normal       1  \n",
              "2   2  reversible       0  \n",
              "3   0      normal       0  \n",
              "4   0      normal       0  "
            ],
            "text/html": [
              "\n",
              "  <div id=\"df-b8a5c864-9878-4af9-81fe-b7516bf1d719\" class=\"colab-df-container\">\n",
              "    <div>\n",
              "<style scoped>\n",
              "    .dataframe tbody tr th:only-of-type {\n",
              "        vertical-align: middle;\n",
              "    }\n",
              "\n",
              "    .dataframe tbody tr th {\n",
              "        vertical-align: top;\n",
              "    }\n",
              "\n",
              "    .dataframe thead th {\n",
              "        text-align: right;\n",
              "    }\n",
              "</style>\n",
              "<table border=\"1\" class=\"dataframe\">\n",
              "  <thead>\n",
              "    <tr style=\"text-align: right;\">\n",
              "      <th></th>\n",
              "      <th>age</th>\n",
              "      <th>sex</th>\n",
              "      <th>cp</th>\n",
              "      <th>trestbps</th>\n",
              "      <th>chol</th>\n",
              "      <th>fbs</th>\n",
              "      <th>restecg</th>\n",
              "      <th>thalach</th>\n",
              "      <th>exang</th>\n",
              "      <th>oldpeak</th>\n",
              "      <th>slope</th>\n",
              "      <th>ca</th>\n",
              "      <th>thal</th>\n",
              "      <th>target</th>\n",
              "    </tr>\n",
              "  </thead>\n",
              "  <tbody>\n",
              "    <tr>\n",
              "      <th>0</th>\n",
              "      <td>63</td>\n",
              "      <td>1</td>\n",
              "      <td>1</td>\n",
              "      <td>145</td>\n",
              "      <td>233</td>\n",
              "      <td>1</td>\n",
              "      <td>2</td>\n",
              "      <td>150</td>\n",
              "      <td>0</td>\n",
              "      <td>2.3</td>\n",
              "      <td>3</td>\n",
              "      <td>0</td>\n",
              "      <td>fixed</td>\n",
              "      <td>0</td>\n",
              "    </tr>\n",
              "    <tr>\n",
              "      <th>1</th>\n",
              "      <td>67</td>\n",
              "      <td>1</td>\n",
              "      <td>4</td>\n",
              "      <td>160</td>\n",
              "      <td>286</td>\n",
              "      <td>0</td>\n",
              "      <td>2</td>\n",
              "      <td>108</td>\n",
              "      <td>1</td>\n",
              "      <td>1.5</td>\n",
              "      <td>2</td>\n",
              "      <td>3</td>\n",
              "      <td>normal</td>\n",
              "      <td>1</td>\n",
              "    </tr>\n",
              "    <tr>\n",
              "      <th>2</th>\n",
              "      <td>67</td>\n",
              "      <td>1</td>\n",
              "      <td>4</td>\n",
              "      <td>120</td>\n",
              "      <td>229</td>\n",
              "      <td>0</td>\n",
              "      <td>2</td>\n",
              "      <td>129</td>\n",
              "      <td>1</td>\n",
              "      <td>2.6</td>\n",
              "      <td>2</td>\n",
              "      <td>2</td>\n",
              "      <td>reversible</td>\n",
              "      <td>0</td>\n",
              "    </tr>\n",
              "    <tr>\n",
              "      <th>3</th>\n",
              "      <td>37</td>\n",
              "      <td>1</td>\n",
              "      <td>3</td>\n",
              "      <td>130</td>\n",
              "      <td>250</td>\n",
              "      <td>0</td>\n",
              "      <td>0</td>\n",
              "      <td>187</td>\n",
              "      <td>0</td>\n",
              "      <td>3.5</td>\n",
              "      <td>3</td>\n",
              "      <td>0</td>\n",
              "      <td>normal</td>\n",
              "      <td>0</td>\n",
              "    </tr>\n",
              "    <tr>\n",
              "      <th>4</th>\n",
              "      <td>41</td>\n",
              "      <td>0</td>\n",
              "      <td>2</td>\n",
              "      <td>130</td>\n",
              "      <td>204</td>\n",
              "      <td>0</td>\n",
              "      <td>2</td>\n",
              "      <td>172</td>\n",
              "      <td>0</td>\n",
              "      <td>1.4</td>\n",
              "      <td>1</td>\n",
              "      <td>0</td>\n",
              "      <td>normal</td>\n",
              "      <td>0</td>\n",
              "    </tr>\n",
              "  </tbody>\n",
              "</table>\n",
              "</div>\n",
              "    <div class=\"colab-df-buttons\">\n",
              "\n",
              "  <div class=\"colab-df-container\">\n",
              "    <button class=\"colab-df-convert\" onclick=\"convertToInteractive('df-b8a5c864-9878-4af9-81fe-b7516bf1d719')\"\n",
              "            title=\"Convert this dataframe to an interactive table.\"\n",
              "            style=\"display:none;\">\n",
              "\n",
              "  <svg xmlns=\"http://www.w3.org/2000/svg\" height=\"24px\" viewBox=\"0 -960 960 960\">\n",
              "    <path d=\"M120-120v-720h720v720H120Zm60-500h600v-160H180v160Zm220 220h160v-160H400v160Zm0 220h160v-160H400v160ZM180-400h160v-160H180v160Zm440 0h160v-160H620v160ZM180-180h160v-160H180v160Zm440 0h160v-160H620v160Z\"/>\n",
              "  </svg>\n",
              "    </button>\n",
              "\n",
              "  <style>\n",
              "    .colab-df-container {\n",
              "      display:flex;\n",
              "      gap: 12px;\n",
              "    }\n",
              "\n",
              "    .colab-df-convert {\n",
              "      background-color: #E8F0FE;\n",
              "      border: none;\n",
              "      border-radius: 50%;\n",
              "      cursor: pointer;\n",
              "      display: none;\n",
              "      fill: #1967D2;\n",
              "      height: 32px;\n",
              "      padding: 0 0 0 0;\n",
              "      width: 32px;\n",
              "    }\n",
              "\n",
              "    .colab-df-convert:hover {\n",
              "      background-color: #E2EBFA;\n",
              "      box-shadow: 0px 1px 2px rgba(60, 64, 67, 0.3), 0px 1px 3px 1px rgba(60, 64, 67, 0.15);\n",
              "      fill: #174EA6;\n",
              "    }\n",
              "\n",
              "    .colab-df-buttons div {\n",
              "      margin-bottom: 4px;\n",
              "    }\n",
              "\n",
              "    [theme=dark] .colab-df-convert {\n",
              "      background-color: #3B4455;\n",
              "      fill: #D2E3FC;\n",
              "    }\n",
              "\n",
              "    [theme=dark] .colab-df-convert:hover {\n",
              "      background-color: #434B5C;\n",
              "      box-shadow: 0px 1px 3px 1px rgba(0, 0, 0, 0.15);\n",
              "      filter: drop-shadow(0px 1px 2px rgba(0, 0, 0, 0.3));\n",
              "      fill: #FFFFFF;\n",
              "    }\n",
              "  </style>\n",
              "\n",
              "    <script>\n",
              "      const buttonEl =\n",
              "        document.querySelector('#df-b8a5c864-9878-4af9-81fe-b7516bf1d719 button.colab-df-convert');\n",
              "      buttonEl.style.display =\n",
              "        google.colab.kernel.accessAllowed ? 'block' : 'none';\n",
              "\n",
              "      async function convertToInteractive(key) {\n",
              "        const element = document.querySelector('#df-b8a5c864-9878-4af9-81fe-b7516bf1d719');\n",
              "        const dataTable =\n",
              "          await google.colab.kernel.invokeFunction('convertToInteractive',\n",
              "                                                    [key], {});\n",
              "        if (!dataTable) return;\n",
              "\n",
              "        const docLinkHtml = 'Like what you see? Visit the ' +\n",
              "          '<a target=\"_blank\" href=https://colab.research.google.com/notebooks/data_table.ipynb>data table notebook</a>'\n",
              "          + ' to learn more about interactive tables.';\n",
              "        element.innerHTML = '';\n",
              "        dataTable['output_type'] = 'display_data';\n",
              "        await google.colab.output.renderOutput(dataTable, element);\n",
              "        const docLink = document.createElement('div');\n",
              "        docLink.innerHTML = docLinkHtml;\n",
              "        element.appendChild(docLink);\n",
              "      }\n",
              "    </script>\n",
              "  </div>\n",
              "\n",
              "\n",
              "<div id=\"df-011e7025-365c-44c1-8c03-325f41cb21ce\">\n",
              "  <button class=\"colab-df-quickchart\" onclick=\"quickchart('df-011e7025-365c-44c1-8c03-325f41cb21ce')\"\n",
              "            title=\"Suggest charts\"\n",
              "            style=\"display:none;\">\n",
              "\n",
              "<svg xmlns=\"http://www.w3.org/2000/svg\" height=\"24px\"viewBox=\"0 0 24 24\"\n",
              "     width=\"24px\">\n",
              "    <g>\n",
              "        <path d=\"M19 3H5c-1.1 0-2 .9-2 2v14c0 1.1.9 2 2 2h14c1.1 0 2-.9 2-2V5c0-1.1-.9-2-2-2zM9 17H7v-7h2v7zm4 0h-2V7h2v10zm4 0h-2v-4h2v4z\"/>\n",
              "    </g>\n",
              "</svg>\n",
              "  </button>\n",
              "\n",
              "<style>\n",
              "  .colab-df-quickchart {\n",
              "      --bg-color: #E8F0FE;\n",
              "      --fill-color: #1967D2;\n",
              "      --hover-bg-color: #E2EBFA;\n",
              "      --hover-fill-color: #174EA6;\n",
              "      --disabled-fill-color: #AAA;\n",
              "      --disabled-bg-color: #DDD;\n",
              "  }\n",
              "\n",
              "  [theme=dark] .colab-df-quickchart {\n",
              "      --bg-color: #3B4455;\n",
              "      --fill-color: #D2E3FC;\n",
              "      --hover-bg-color: #434B5C;\n",
              "      --hover-fill-color: #FFFFFF;\n",
              "      --disabled-bg-color: #3B4455;\n",
              "      --disabled-fill-color: #666;\n",
              "  }\n",
              "\n",
              "  .colab-df-quickchart {\n",
              "    background-color: var(--bg-color);\n",
              "    border: none;\n",
              "    border-radius: 50%;\n",
              "    cursor: pointer;\n",
              "    display: none;\n",
              "    fill: var(--fill-color);\n",
              "    height: 32px;\n",
              "    padding: 0;\n",
              "    width: 32px;\n",
              "  }\n",
              "\n",
              "  .colab-df-quickchart:hover {\n",
              "    background-color: var(--hover-bg-color);\n",
              "    box-shadow: 0 1px 2px rgba(60, 64, 67, 0.3), 0 1px 3px 1px rgba(60, 64, 67, 0.15);\n",
              "    fill: var(--button-hover-fill-color);\n",
              "  }\n",
              "\n",
              "  .colab-df-quickchart-complete:disabled,\n",
              "  .colab-df-quickchart-complete:disabled:hover {\n",
              "    background-color: var(--disabled-bg-color);\n",
              "    fill: var(--disabled-fill-color);\n",
              "    box-shadow: none;\n",
              "  }\n",
              "\n",
              "  .colab-df-spinner {\n",
              "    border: 2px solid var(--fill-color);\n",
              "    border-color: transparent;\n",
              "    border-bottom-color: var(--fill-color);\n",
              "    animation:\n",
              "      spin 1s steps(1) infinite;\n",
              "  }\n",
              "\n",
              "  @keyframes spin {\n",
              "    0% {\n",
              "      border-color: transparent;\n",
              "      border-bottom-color: var(--fill-color);\n",
              "      border-left-color: var(--fill-color);\n",
              "    }\n",
              "    20% {\n",
              "      border-color: transparent;\n",
              "      border-left-color: var(--fill-color);\n",
              "      border-top-color: var(--fill-color);\n",
              "    }\n",
              "    30% {\n",
              "      border-color: transparent;\n",
              "      border-left-color: var(--fill-color);\n",
              "      border-top-color: var(--fill-color);\n",
              "      border-right-color: var(--fill-color);\n",
              "    }\n",
              "    40% {\n",
              "      border-color: transparent;\n",
              "      border-right-color: var(--fill-color);\n",
              "      border-top-color: var(--fill-color);\n",
              "    }\n",
              "    60% {\n",
              "      border-color: transparent;\n",
              "      border-right-color: var(--fill-color);\n",
              "    }\n",
              "    80% {\n",
              "      border-color: transparent;\n",
              "      border-right-color: var(--fill-color);\n",
              "      border-bottom-color: var(--fill-color);\n",
              "    }\n",
              "    90% {\n",
              "      border-color: transparent;\n",
              "      border-bottom-color: var(--fill-color);\n",
              "    }\n",
              "  }\n",
              "</style>\n",
              "\n",
              "  <script>\n",
              "    async function quickchart(key) {\n",
              "      const quickchartButtonEl =\n",
              "        document.querySelector('#' + key + ' button');\n",
              "      quickchartButtonEl.disabled = true;  // To prevent multiple clicks.\n",
              "      quickchartButtonEl.classList.add('colab-df-spinner');\n",
              "      try {\n",
              "        const charts = await google.colab.kernel.invokeFunction(\n",
              "            'suggestCharts', [key], {});\n",
              "      } catch (error) {\n",
              "        console.error('Error during call to suggestCharts:', error);\n",
              "      }\n",
              "      quickchartButtonEl.classList.remove('colab-df-spinner');\n",
              "      quickchartButtonEl.classList.add('colab-df-quickchart-complete');\n",
              "    }\n",
              "    (() => {\n",
              "      let quickchartButtonEl =\n",
              "        document.querySelector('#df-011e7025-365c-44c1-8c03-325f41cb21ce button');\n",
              "      quickchartButtonEl.style.display =\n",
              "        google.colab.kernel.accessAllowed ? 'block' : 'none';\n",
              "    })();\n",
              "  </script>\n",
              "</div>\n",
              "\n",
              "    </div>\n",
              "  </div>\n"
            ],
            "application/vnd.google.colaboratory.intrinsic+json": {
              "type": "dataframe",
              "variable_name": "df",
              "summary": "{\n  \"name\": \"df\",\n  \"rows\": 303,\n  \"fields\": [\n    {\n      \"column\": \"age\",\n      \"properties\": {\n        \"dtype\": \"number\",\n        \"std\": 9,\n        \"min\": 29,\n        \"max\": 77,\n        \"num_unique_values\": 41,\n        \"samples\": [\n          61,\n          64,\n          44\n        ],\n        \"semantic_type\": \"\",\n        \"description\": \"\"\n      }\n    },\n    {\n      \"column\": \"sex\",\n      \"properties\": {\n        \"dtype\": \"number\",\n        \"std\": 0,\n        \"min\": 0,\n        \"max\": 1,\n        \"num_unique_values\": 2,\n        \"samples\": [\n          0,\n          1\n        ],\n        \"semantic_type\": \"\",\n        \"description\": \"\"\n      }\n    },\n    {\n      \"column\": \"cp\",\n      \"properties\": {\n        \"dtype\": \"number\",\n        \"std\": 1,\n        \"min\": 0,\n        \"max\": 4,\n        \"num_unique_values\": 5,\n        \"samples\": [\n          4,\n          0\n        ],\n        \"semantic_type\": \"\",\n        \"description\": \"\"\n      }\n    },\n    {\n      \"column\": \"trestbps\",\n      \"properties\": {\n        \"dtype\": \"number\",\n        \"std\": 17,\n        \"min\": 94,\n        \"max\": 200,\n        \"num_unique_values\": 50,\n        \"samples\": [\n          104,\n          192\n        ],\n        \"semantic_type\": \"\",\n        \"description\": \"\"\n      }\n    },\n    {\n      \"column\": \"chol\",\n      \"properties\": {\n        \"dtype\": \"number\",\n        \"std\": 52,\n        \"min\": 126,\n        \"max\": 564,\n        \"num_unique_values\": 152,\n        \"samples\": [\n          261,\n          182\n        ],\n        \"semantic_type\": \"\",\n        \"description\": \"\"\n      }\n    },\n    {\n      \"column\": \"fbs\",\n      \"properties\": {\n        \"dtype\": \"number\",\n        \"std\": 0,\n        \"min\": 0,\n        \"max\": 1,\n        \"num_unique_values\": 2,\n        \"samples\": [\n          0,\n          1\n        ],\n        \"semantic_type\": \"\",\n        \"description\": \"\"\n      }\n    },\n    {\n      \"column\": \"restecg\",\n      \"properties\": {\n        \"dtype\": \"number\",\n        \"std\": 0,\n        \"min\": 0,\n        \"max\": 2,\n        \"num_unique_values\": 3,\n        \"samples\": [\n          2,\n          0\n        ],\n        \"semantic_type\": \"\",\n        \"description\": \"\"\n      }\n    },\n    {\n      \"column\": \"thalach\",\n      \"properties\": {\n        \"dtype\": \"number\",\n        \"std\": 23,\n        \"min\": 71,\n        \"max\": 202,\n        \"num_unique_values\": 91,\n        \"samples\": [\n          175,\n          114\n        ],\n        \"semantic_type\": \"\",\n        \"description\": \"\"\n      }\n    },\n    {\n      \"column\": \"exang\",\n      \"properties\": {\n        \"dtype\": \"number\",\n        \"std\": 0,\n        \"min\": 0,\n        \"max\": 1,\n        \"num_unique_values\": 2,\n        \"samples\": [\n          1,\n          0\n        ],\n        \"semantic_type\": \"\",\n        \"description\": \"\"\n      }\n    },\n    {\n      \"column\": \"oldpeak\",\n      \"properties\": {\n        \"dtype\": \"number\",\n        \"std\": 1.1650246194814895,\n        \"min\": 0.0,\n        \"max\": 6.2,\n        \"num_unique_values\": 40,\n        \"samples\": [\n          2.4,\n          0.2\n        ],\n        \"semantic_type\": \"\",\n        \"description\": \"\"\n      }\n    },\n    {\n      \"column\": \"slope\",\n      \"properties\": {\n        \"dtype\": \"number\",\n        \"std\": 0,\n        \"min\": 1,\n        \"max\": 3,\n        \"num_unique_values\": 3,\n        \"samples\": [\n          3,\n          2\n        ],\n        \"semantic_type\": \"\",\n        \"description\": \"\"\n      }\n    },\n    {\n      \"column\": \"ca\",\n      \"properties\": {\n        \"dtype\": \"number\",\n        \"std\": 0,\n        \"min\": 0,\n        \"max\": 3,\n        \"num_unique_values\": 4,\n        \"samples\": [\n          3,\n          1\n        ],\n        \"semantic_type\": \"\",\n        \"description\": \"\"\n      }\n    },\n    {\n      \"column\": \"thal\",\n      \"properties\": {\n        \"dtype\": \"category\",\n        \"num_unique_values\": 5,\n        \"samples\": [\n          \"normal\",\n          \"2\"\n        ],\n        \"semantic_type\": \"\",\n        \"description\": \"\"\n      }\n    },\n    {\n      \"column\": \"target\",\n      \"properties\": {\n        \"dtype\": \"number\",\n        \"std\": 0,\n        \"min\": 0,\n        \"max\": 1,\n        \"num_unique_values\": 2,\n        \"samples\": [\n          1,\n          0\n        ],\n        \"semantic_type\": \"\",\n        \"description\": \"\"\n      }\n    }\n  ]\n}"
            }
          },
          "metadata": {},
          "execution_count": 5
        }
      ],
      "source": [
        "df.head()"
      ]
    },
    {
      "cell_type": "markdown",
      "metadata": {
        "id": "Glx6sm_daxsU"
      },
      "source": [
        "Draw some inference from the data. What does the target column indicate?\n",
        "\n",
        "The last column, \"target\", indicates whether the patient has a heart disease (1) or not\n",
        "(0)."
      ]
    },
    {
      "cell_type": "markdown",
      "source": [
        "### Split the data into a training and validation set\n",
        "\n",
        "Hint:: Use .sample() method from Pandas.\n",
        "\n",
        "Refer to link [here](https://pandas.pydata.org/docs/reference/api/pandas.DataFrame.sample.html)\n",
        "\n",
        "Official reference from pandas for drop method [here](https://pandas.pydata.org/docs/reference/api/pandas.DataFrame.drop.html)"
      ],
      "metadata": {
        "id": "sUsajA0isrL9"
      }
    },
    {
      "cell_type": "code",
      "execution_count": 6,
      "metadata": {
        "id": "TyXJ6K9maxsV",
        "colab": {
          "base_uri": "https://localhost:8080/"
        },
        "outputId": "b6832079-8ec3-4ece-d091-69da0b357367"
      },
      "outputs": [
        {
          "output_type": "stream",
          "name": "stdout",
          "text": [
            "Using 242 samples for training and 61 for validation\n"
          ]
        }
      ],
      "source": [
        "train_dataframe = df.sample(frac=0.8, random_state=1)\n",
        "val_dataframe = df.drop(train_dataframe.index)\n",
        "\n",
        "print(\n",
        "    \"Using %d samples for training and %d for validation\"\n",
        "    % (len(train_dataframe), len(val_dataframe))\n",
        ")"
      ]
    },
    {
      "cell_type": "markdown",
      "source": [
        "### Converting into tensorflow dataset & creating batches"
      ],
      "metadata": {
        "id": "0GzvSLUsr56A"
      }
    },
    {
      "cell_type": "markdown",
      "metadata": {
        "id": "yylt5oWvaxsV"
      },
      "source": [
        "Generate `tf.data.Dataset` objects for each dataframe:\n",
        "\n",
        "Each `Dataset` yields a tuple `(input, target)` where `input` is a dictionary of features\n",
        "and `target` is the value `0` or `1`:\n",
        "\n",
        "Refer [here](https://www.tensorflow.org/api_docs/python/tf/data/Dataset#from_tensor_slices) to create the tuple using tensorflow."
      ]
    },
    {
      "cell_type": "code",
      "execution_count": 7,
      "metadata": {
        "id": "ZLwPzHf-axsV"
      },
      "outputs": [],
      "source": [
        "TARGET_FIELDNAME = 'target'\n",
        "\n",
        "def dataframe_to_dataset(dataframe):\n",
        "    input, target = dataframe.drop([TARGET_FIELDNAME], axis=1), dataframe[TARGET_FIELDNAME]\n",
        "    # Convert the Pandas dataframe to a TensorFlow Dataset\n",
        "    dataset = tf.data.Dataset.from_tensor_slices((dict(input), target))\n",
        "    return dataset\n",
        "\n",
        "train_ds = dataframe_to_dataset(train_dataframe)\n",
        "val_ds = dataframe_to_dataset(val_dataframe)"
      ]
    },
    {
      "cell_type": "code",
      "execution_count": 8,
      "metadata": {
        "id": "oeCYFOjLaxsW",
        "colab": {
          "base_uri": "https://localhost:8080/"
        },
        "outputId": "f1749f8e-f5e8-4673-f755-6ada17acc20f"
      },
      "outputs": [
        {
          "output_type": "stream",
          "name": "stdout",
          "text": [
            "Features:\n",
            "  age: 76\n",
            "  sex: 0\n",
            "  cp: 3\n",
            "  trestbps: 140\n",
            "  chol: 197\n",
            "  fbs: 0\n",
            "  restecg: 1\n",
            "  thalach: 116\n",
            "  exang: 0\n",
            "  oldpeak: 1.1\n",
            "  slope: 2\n",
            "  ca: 0\n",
            "  thal: b'normal'\n",
            "Label: tf.Tensor(0, shape=(), dtype=int64)\n"
          ]
        }
      ],
      "source": [
        "# Visualizing one datapoint from the formatted data\n",
        "## YOUR CODE HERE\n",
        "# Get one sample (a batch of size 1) from the training dataset\n",
        "def view_one_data(dataset):\n",
        "    for features, label in dataset.take(1):\n",
        "        # Features are in dictionary format\n",
        "        print(\"Features:\")\n",
        "        for key, value in features.items():\n",
        "            print(f\"  {key}: {value}\")\n",
        "        print(\"Label:\", label)\n",
        "view_one_data(train_ds)"
      ]
    },
    {
      "cell_type": "markdown",
      "metadata": {
        "id": "_JNHU2qQaxsW"
      },
      "source": [
        "#### Create the batch of the datasets:"
      ]
    },
    {
      "cell_type": "markdown",
      "source": [
        "Refer [here](https://www.tensorflow.org/api_docs/python/tf/data/Dataset#batch) to create a batch using tensorflow."
      ],
      "metadata": {
        "id": "06SkbqOG4egU"
      }
    },
    {
      "cell_type": "code",
      "execution_count": 9,
      "metadata": {
        "id": "Rb11lwxDaxsW"
      },
      "outputs": [],
      "source": [
        "BATCH_SIZE = 16\n",
        "def create_batch(dataset):\n",
        "    return dataset.batch(BATCH_SIZE)\n",
        "## YOUR CODE HERE  ## For train\n",
        "train_ds_batch = create_batch(train_ds)\n",
        "## YOUR CODE HERE  ## For val\n",
        "val_ds_batch = create_batch(val_ds)"
      ]
    },
    {
      "cell_type": "markdown",
      "source": [
        "## Feature preprocessing with Keras layers [3 Marks]"
      ],
      "metadata": {
        "id": "DgY1sXyn43g3"
      }
    },
    {
      "cell_type": "markdown",
      "source": [
        "### Categorical Features Encoding"
      ],
      "metadata": {
        "id": "kDHb-mam8Aw-"
      }
    },
    {
      "cell_type": "markdown",
      "source": [
        "**The** following features are categorical features encoded as integers:\n",
        "\n",
        "- `sex`\n",
        "- `cp`\n",
        "- `fbs`\n",
        "- `restecg`\n",
        "- `exang`\n",
        "- `ca`"
      ],
      "metadata": {
        "id": "PYQu-1Gl46a1"
      }
    },
    {
      "cell_type": "code",
      "source": [
        "# feature = train_ds_batch.take(1)\n",
        "view_one_data(train_ds_batch)\n"
      ],
      "metadata": {
        "id": "Kn01rIY9EGU9",
        "colab": {
          "base_uri": "https://localhost:8080/"
        },
        "outputId": "c2463992-b58d-40d5-dfc9-f5cf4aa73f28"
      },
      "execution_count": 10,
      "outputs": [
        {
          "output_type": "stream",
          "name": "stdout",
          "text": [
            "Features:\n",
            "  age: [76 41 71 67 46 39 41 53 58 50 45 45 60 35 58 63]\n",
            "  sex: [0 1 0 0 1 1 1 1 1 1 1 1 1 1 0 0]\n",
            "  cp: [3 3 4 3 4 4 4 4 4 4 4 3 3 2 2 4]\n",
            "  trestbps: [140 130 112 152 120 118 110 142 100 144 104 110 140 122 136 150]\n",
            "  chol: [197 214 149 277 249 219 172 226 234 200 208 264 185 192 319 407]\n",
            "  fbs: [0 0 0 0 0 0 0 0 0 0 0 0 0 0 1 0]\n",
            "  restecg: [1 2 0 0 2 0 2 2 0 2 2 1 2 0 2 2]\n",
            "  thalach: [116 168 125 172 144 140 158 111 156 126 148 132 155 174 152 154]\n",
            "  exang: [0 0 0 0 0 0 0 1 0 1 1 0 0 0 0 0]\n",
            "  oldpeak: [1.1 2.  1.6 0.  0.8 1.2 0.  0.  0.1 0.9 3.  1.2 3.  0.  0.  4. ]\n",
            "  slope: [2 2 2 1 1 2 1 1 1 2 2 1 2 1 1 2]\n",
            "  ca: [0 0 0 1 0 0 0 0 1 0 0 0 0 0 2 3]\n",
            "  thal: [b'normal' b'normal' b'normal' b'normal' b'reversible' b'reversible'\n",
            " b'reversible' b'reversible' b'reversible' b'reversible' b'normal'\n",
            " b'normal' b'normal' b'normal' b'normal' b'reversible']\n",
            "Label: tf.Tensor([0 0 0 0 0 1 0 0 1 1 0 0 0 0 1 1], shape=(16,), dtype=int64)\n"
          ]
        }
      ]
    },
    {
      "cell_type": "markdown",
      "source": [
        "We will encode these features using **one-hot encoding**. We have two options\n",
        "here:\n",
        "\n",
        " - Use `CategoryEncoding()`, which requires knowing the range of input values\n",
        " and will throw an error on input outside the range.\n",
        " - Use `IntegerLookup()` which will build a lookup table for inputs and **reserve\n",
        " an output index for unkown input values**.\n",
        "\n",
        "For this example, we want a simple solution that will handle out of range inputs\n",
        "at inference, so we will use `IntegerLookup()`.\n",
        "\n",
        "We also have a categorical feature encoded as a string: `thal`. We will create an\n",
        "index of all possible features and encode output using the `StringLookup()` layer."
      ],
      "metadata": {
        "id": "FC9vOfeA796e"
      }
    },
    {
      "cell_type": "markdown",
      "source": [
        "Create a function `encode_categorical_feature`, this function takes four parameters.\n",
        "1. Feature to be encoded.\n",
        "2. Name of the feature in the dataset.\n",
        "3. Dataset containing the feature.\n",
        "4. A boolean value wether the feature is string or not."
      ],
      "metadata": {
        "id": "LBPnzKnA_F1g"
      }
    },
    {
      "cell_type": "markdown",
      "source": [
        "**Refer :** StringLookup [here](https://www.tensorflow.org/api_docs/python/tf/keras/layers/StringLookup) and IntegerLookup [here](https://www.tensorflow.org/api_docs/python/tf/keras/layers/IntegerLookup)."
      ],
      "metadata": {
        "id": "5c71RPyG-oMf"
      }
    },
    {
      "cell_type": "code",
      "source": [
        "def encode_categorical_feature(feature, name, dataset, is_string):\n",
        "    # Check if the feature is string type\n",
        "    if is_string:\n",
        "        # Create a StringLookup layer to map strings to integer indices\n",
        "        lookup = tf.keras.layers.StringLookup(output_mode='int')\n",
        "    else:\n",
        "        # Create an IntegerLookup layer to map integers to integer indices\n",
        "        lookup = tf.keras.layers.IntegerLookup(output_mode='int')\n",
        "\n",
        "    # Prepare a Dataset that only yields our feature\n",
        "    feature_dataset = dataset.map(lambda x, y: x[name])\n",
        "\n",
        "    # Adapt the lookup layer to the dataset\n",
        "    lookup.adapt(feature_dataset)\n",
        "\n",
        "    # Encode the feature by turning the input into integer indices\n",
        "    encoded_feature = lookup(feature)\n",
        "\n",
        "    return encoded_feature\n"
      ],
      "metadata": {
        "id": "drcy1lla5G9n"
      },
      "execution_count": 11,
      "outputs": []
    },
    {
      "cell_type": "markdown",
      "metadata": {
        "id": "sTNTvYjfaxsW"
      },
      "source": [
        "### Numerical features Normalization\n",
        "The following feature are continuous numerical features:\n",
        "\n",
        "- `age`\n",
        "- `trestbps`\n",
        "- `chol`\n",
        "- `thalach`\n",
        "- `oldpeak`\n",
        "- `slope`\n",
        "\n",
        "For each of these features, we will use a `Normalization()` layer to make sure the mean\n",
        "of each feature is 0 and its standard deviation is 1.\n",
        "\n",
        "\n",
        "- Define a function `encode_numerical_feature` to apply featurewise normalization to numerical features.\n"
      ]
    },
    {
      "cell_type": "markdown",
      "source": [
        "Refer Normalization [here](https://www.tensorflow.org/api_docs/python/tf/keras/layers/Normalization)"
      ],
      "metadata": {
        "id": "SQ0TCXUOAXgE"
      }
    },
    {
      "cell_type": "code",
      "execution_count": 12,
      "metadata": {
        "id": "g1Zl8AYgaxsW"
      },
      "outputs": [],
      "source": [
        "def encode_numerical_feature(feature, name, dataset):\n",
        "    # Create a Normalization layer for our feature\n",
        "    normalizer = tf.keras.layers.Normalization(axis=None)\n",
        "\n",
        "    # Prepare a Dataset that only yields our feature\n",
        "    feature_dataset = dataset.map(lambda x, y: x[name])\n",
        "\n",
        "    # Learn the statistics of the data\n",
        "    normalizer.adapt(feature_dataset)\n",
        "\n",
        "    # Normalize the input feature\n",
        "    encoded_feature = normalizer(feature)\n",
        "\n",
        "    # Cast the normalized feature to integer type\n",
        "    encoded_feature = tf.cast(encoded_feature, tf.int64)\n",
        "\n",
        "    return encoded_feature"
      ]
    },
    {
      "cell_type": "markdown",
      "source": [
        "# Part B"
      ],
      "metadata": {
        "id": "xY9mCVZ8W604"
      }
    },
    {
      "cell_type": "markdown",
      "metadata": {
        "id": "zQlt1xCbaxsX"
      },
      "source": [
        "## Building the model [4 Marks]"
      ]
    },
    {
      "cell_type": "markdown",
      "source": [
        "#### Need to instantiate a Keras tensor for all features\n",
        " Use keras Input() [method](https://keras.io/api/layers/core_layers/input/).\n",
        "* Create a list of inputs to be fed to the model.\n",
        "* This list consists of the features output from keras Input() method.\n",
        "* These inputs include all the features.\n"
      ],
      "metadata": {
        "id": "zBhmQ_q5oLIq"
      }
    },
    {
      "cell_type": "code",
      "source": [
        "# Categorical features encoded as integers\n",
        "sex = tf.keras.Input(shape=(1,), name='sex', dtype='int32')\n",
        "cp = tf.keras.Input(shape=(1,), name='cp', dtype='int32')\n",
        "fbs = tf.keras.Input(shape=(1,), name='fbs', dtype='int32')\n",
        "restecg = tf.keras.Input(shape=(1,), name='restecg', dtype='int32')\n",
        "exang = tf.keras.Input(shape=(1,), name='exang', dtype='int32')\n",
        "ca = tf.keras.Input(shape=(1,), name='ca', dtype='int32')\n",
        "\n",
        "# Categorical feature encoded as string\n",
        "thal = tf.keras.Input(shape=(1,), name='thal', dtype='string')\n",
        "\n",
        "# Numerical features\n",
        "age = tf.keras.Input(shape=(1,), name='age', dtype='float32')\n",
        "trestbps = tf.keras.Input(shape=(1,), name='trestbps', dtype='float32')\n",
        "chol = tf.keras.Input(shape=(1,), name='chol', dtype='float32')\n",
        "thalach = tf.keras.Input(shape=(1,), name='thalach', dtype='float32')\n",
        "oldpeak = tf.keras.Input(shape=(1,), name='oldpeak', dtype='float32')\n",
        "slope = tf.keras.Input(shape=(1,), name='slope', dtype='float32')\n",
        "\n",
        "all_inputs = [sex, cp, fbs, restecg,exang,ca,thal,age,trestbps,chol,thalach,oldpeak,slope]\n",
        "## These list of inputs objects are fed inside the model as inputs"
      ],
      "metadata": {
        "id": "7DWkHm9-ymp6"
      },
      "execution_count": 13,
      "outputs": []
    },
    {
      "cell_type": "markdown",
      "source": [
        "### Encoding above features\n",
        "Use  \"encode_categorical_feature\" & \"encode_numerical_feature\" function on respective features that we defined above."
      ],
      "metadata": {
        "id": "L9QJ4k6tzKcl"
      }
    },
    {
      "cell_type": "code",
      "execution_count": 14,
      "metadata": {
        "id": "q3ISoSGRaxsX"
      },
      "outputs": [],
      "source": [
        "# Integer categorical features\n",
        "sex_encoded = encode_categorical_feature(sex, 'sex', train_ds, False)\n",
        "cp_encoded = encode_categorical_feature(cp, 'cp', train_ds, False)\n",
        "fbs_encoded = encode_categorical_feature(fbs, 'fbs', train_ds, False)\n",
        "restecg_encoded = encode_categorical_feature(restecg, 'restecg', train_ds, False)\n",
        "exang_encoded = encode_categorical_feature(exang, 'exang', train_ds, False)\n",
        "ca_encoded = encode_categorical_feature(ca, 'ca', train_ds, False)\n",
        "\n",
        "# String categorical features\n",
        "thal_encoded = encode_categorical_feature(thal, 'thal', train_ds, True)\n",
        "\n",
        "# Numerical features\n",
        "age_encoded = encode_numerical_feature(age,'age',train_ds)\n",
        "trestbps_encoded = encode_numerical_feature(trestbps,'trestbps',train_ds)\n",
        "chol_encoded = encode_numerical_feature(chol,'chol',train_ds)\n",
        "thalach_encoded = encode_numerical_feature(thalach,'thalach',train_ds)\n",
        "oldpeak_encoded = encode_numerical_feature(oldpeak,'oldpeak',train_ds)\n",
        "slope_encoded = encode_numerical_feature(slope,'slope',train_ds)"
      ]
    },
    {
      "cell_type": "markdown",
      "source": [
        "##### Understanding the result of  encoder functions"
      ],
      "metadata": {
        "id": "4GImpVSz8Mh-"
      }
    },
    {
      "cell_type": "code",
      "source": [
        "def view_encoded_feature(input, name, encoded, ds_batch):\n",
        "    # Create the TensorFlow model\n",
        "    model = tf.keras.Model(inputs=input, outputs=encoded)\n",
        "\n",
        "    # To predict, we need to convert DataFrame column to TensorFlow tensor\n",
        "    sex_data = tf.convert_to_tensor(df[name].values, dtype=tf.int32)\n",
        "\n",
        "    for batch in ds_batch.take(1):  # Just taking one batch for demonstration\n",
        "        inputs, targets = batch\n",
        "        output = model.predict(inputs[name])\n",
        "        print(output)\n",
        "\n",
        "view_encoded_feature(sex, 'sex', sex_encoded, train_ds_batch)\n",
        "\n",
        "sex_encoded"
      ],
      "metadata": {
        "id": "7agE0k6X7TIo",
        "colab": {
          "base_uri": "https://localhost:8080/"
        },
        "outputId": "e95f353b-31e7-4206-fa07-e5fa2c8f03aa"
      },
      "execution_count": 15,
      "outputs": [
        {
          "output_type": "stream",
          "name": "stdout",
          "text": [
            "1/1 [==============================] - 0s 133ms/step\n",
            "[[2]\n",
            " [1]\n",
            " [2]\n",
            " [2]\n",
            " [1]\n",
            " [1]\n",
            " [1]\n",
            " [1]\n",
            " [1]\n",
            " [1]\n",
            " [1]\n",
            " [1]\n",
            " [1]\n",
            " [1]\n",
            " [2]\n",
            " [2]]\n"
          ]
        },
        {
          "output_type": "execute_result",
          "data": {
            "text/plain": [
              "<KerasTensor: shape=(None, 1) dtype=int64 (created by layer 'integer_lookup')>"
            ]
          },
          "metadata": {},
          "execution_count": 15
        }
      ]
    },
    {
      "cell_type": "code",
      "source": [
        "# cp_encoded = ## YOUR CODE HERE\n",
        "print(cp_encoded.get_shape())\n",
        "\n",
        "# view_encoded_feature(cp, 'cp', cp_encoded, train_ds_batch)"
      ],
      "metadata": {
        "id": "N-Lr3-9W7-EU",
        "colab": {
          "base_uri": "https://localhost:8080/"
        },
        "outputId": "a9805574-467f-431e-d872-3f91551faa74"
      },
      "execution_count": 16,
      "outputs": [
        {
          "output_type": "stream",
          "name": "stdout",
          "text": [
            "(None, 1)\n"
          ]
        }
      ]
    },
    {
      "cell_type": "markdown",
      "source": [
        "### Using Functional API for building model\n",
        "Build the three model architectures with 1, 2, and 3 hidden layers having different numbers of neurons. Train for each architecture and compare the train and the validation accuracy.\n",
        "\n",
        "* These inputs will be passed to keras.model.\n",
        "* Concatenate the encoded features using layers.concatenate()\n",
        "* Add the Dense layers and compile the model."
      ],
      "metadata": {
        "id": "XgCGkr5Y1CqB"
      }
    },
    {
      "cell_type": "code",
      "source": [
        "all_inputs = [sex, cp, fbs, restecg,exang,ca,thal,age,trestbps,chol,thalach,oldpeak,slope]\n",
        "\n",
        "# Example: Assuming each input feature is already encoded and stored in variables like 'encoded_sex', 'encoded_cp', etc.\n",
        "all_encoded_features = [\n",
        "    sex_encoded, cp_encoded, fbs_encoded, restecg_encoded, exang_encoded, ca_encoded,\n",
        "    thal_encoded, age_encoded, trestbps_encoded, chol_encoded, thalach_encoded, oldpeak_encoded, slope_encoded\n",
        "]\n",
        "\n",
        "# Concatenate all encoded inputs\n",
        "all_features = layers.concatenate(all_encoded_features)\n",
        "\n",
        "# Adding Dense layers with Dropout\n",
        "x = layers.Dense(32, activation=\"relu\")(all_features)\n",
        "x = layers.Dropout(0.5)(x)\n",
        "x = layers.Dense(32, activation=\"relu\")(x)\n",
        "x = layers.Dropout(0.3)(x)\n",
        "x = layers.Dense(32, activation=\"relu\")(x)\n",
        "x = layers.Dropout(0.3)(x)\n",
        "\n",
        "# Output layer - adjust according to your specific problem, e.g., binary classification here\n",
        "output = layers.Dense(1, activation=\"sigmoid\")(x)\n",
        "\n",
        "# Create the model\n",
        "model = keras.Model(inputs=all_inputs, outputs=output)\n",
        "\n",
        "\n",
        "# Configure the optimizer with a specific learning rate\n",
        "optimizer = keras.optimizers.Adam(learning_rate=0.005)\n",
        "\n",
        "# Compile the model\n",
        "model.compile(optimizer=optimizer, loss='binary_crossentropy', metrics=['accuracy'])\n"
      ],
      "metadata": {
        "id": "WEDvPj0o1GJR"
      },
      "execution_count": 17,
      "outputs": []
    },
    {
      "cell_type": "markdown",
      "metadata": {
        "id": "6n8nNJl8axsX"
      },
      "source": [
        "### Visualize the connectivity graph using `keras.utils.plot_model`:"
      ]
    },
    {
      "cell_type": "code",
      "execution_count": 18,
      "metadata": {
        "id": "HHIJkQVTaxsX",
        "colab": {
          "base_uri": "https://localhost:8080/"
        },
        "outputId": "c4d92e94-59e2-406a-a51d-15a4da8c8b4c"
      },
      "outputs": [
        {
          "output_type": "stream",
          "name": "stdout",
          "text": [
            "You must install pydot (`pip install pydot`) and install graphviz (see instructions at https://graphviz.gitlab.io/download/) for plot_model to work.\n"
          ]
        }
      ],
      "source": [
        "from tensorflow.keras.utils import plot_model\n",
        "\n",
        "# `rankdir='LR'` is to make the graph horizontal.\n",
        "plot_model(model, rankdir='LR')"
      ]
    },
    {
      "cell_type": "markdown",
      "metadata": {
        "id": "5vnGOiMuaxsX"
      },
      "source": [
        "### Train the model\n",
        "\n",
        "(Change the Colab notebook's runtime to GPU for faster training)"
      ]
    },
    {
      "cell_type": "code",
      "execution_count": 19,
      "metadata": {
        "id": "GflUtJDTaxsX",
        "colab": {
          "base_uri": "https://localhost:8080/"
        },
        "outputId": "34f23044-0a75-4cec-b3db-1a6269806021"
      },
      "outputs": [
        {
          "output_type": "stream",
          "name": "stdout",
          "text": [
            "Epoch 1/100\n",
            "16/16 [==============================] - 4s 189ms/step - loss: 0.6096 - accuracy: 0.7107 - val_loss: 0.5870 - val_accuracy: 0.7049\n",
            "Epoch 2/100\n",
            "16/16 [==============================] - 2s 121ms/step - loss: 0.5085 - accuracy: 0.7355 - val_loss: 0.5279 - val_accuracy: 0.7049\n",
            "Epoch 3/100\n",
            "16/16 [==============================] - 2s 144ms/step - loss: 0.5030 - accuracy: 0.7397 - val_loss: 0.5042 - val_accuracy: 0.7049\n",
            "Epoch 4/100\n",
            "16/16 [==============================] - 2s 121ms/step - loss: 0.4773 - accuracy: 0.7273 - val_loss: 0.4499 - val_accuracy: 0.7541\n",
            "Epoch 5/100\n",
            "16/16 [==============================] - 2s 121ms/step - loss: 0.4320 - accuracy: 0.7934 - val_loss: 0.4043 - val_accuracy: 0.8197\n",
            "Epoch 6/100\n",
            "16/16 [==============================] - 2s 147ms/step - loss: 0.3812 - accuracy: 0.7975 - val_loss: 0.3613 - val_accuracy: 0.7705\n",
            "Epoch 7/100\n",
            "16/16 [==============================] - 0s 5ms/step - loss: 0.4316 - accuracy: 0.8264 - val_loss: 0.3744 - val_accuracy: 0.8361\n",
            "Epoch 8/100\n",
            "16/16 [==============================] - 0s 5ms/step - loss: 0.4169 - accuracy: 0.7975 - val_loss: 0.3914 - val_accuracy: 0.7869\n",
            "Epoch 9/100\n",
            "16/16 [==============================] - 2s 121ms/step - loss: 0.3888 - accuracy: 0.8264 - val_loss: 0.3588 - val_accuracy: 0.8361\n",
            "Epoch 10/100\n",
            "16/16 [==============================] - 2s 119ms/step - loss: 0.3785 - accuracy: 0.8471 - val_loss: 0.3452 - val_accuracy: 0.8361\n",
            "Epoch 11/100\n",
            "16/16 [==============================] - 0s 5ms/step - loss: 0.3591 - accuracy: 0.8140 - val_loss: 0.3522 - val_accuracy: 0.8361\n",
            "Epoch 12/100\n",
            "16/16 [==============================] - 0s 5ms/step - loss: 0.3450 - accuracy: 0.8678 - val_loss: 0.3502 - val_accuracy: 0.8361\n",
            "Epoch 13/100\n",
            "16/16 [==============================] - 2s 143ms/step - loss: 0.3188 - accuracy: 0.8760 - val_loss: 0.3416 - val_accuracy: 0.8033\n",
            "Epoch 14/100\n",
            "16/16 [==============================] - 2s 117ms/step - loss: 0.3240 - accuracy: 0.8388 - val_loss: 0.3331 - val_accuracy: 0.8197\n",
            "Epoch 15/100\n",
            "16/16 [==============================] - 2s 117ms/step - loss: 0.3358 - accuracy: 0.8471 - val_loss: 0.3285 - val_accuracy: 0.8361\n",
            "Epoch 16/100\n",
            "16/16 [==============================] - 0s 5ms/step - loss: 0.3314 - accuracy: 0.8678 - val_loss: 0.3400 - val_accuracy: 0.8361\n",
            "Epoch 17/100\n",
            "16/16 [==============================] - 0s 5ms/step - loss: 0.3066 - accuracy: 0.8430 - val_loss: 0.3347 - val_accuracy: 0.8197\n",
            "Epoch 18/100\n",
            "16/16 [==============================] - 0s 5ms/step - loss: 0.3166 - accuracy: 0.8347 - val_loss: 0.3408 - val_accuracy: 0.8197\n",
            "Epoch 19/100\n",
            "16/16 [==============================] - 0s 5ms/step - loss: 0.3165 - accuracy: 0.8554 - val_loss: 0.3477 - val_accuracy: 0.8361\n",
            "Epoch 20/100\n",
            "16/16 [==============================] - 2s 143ms/step - loss: 0.3388 - accuracy: 0.8512 - val_loss: 0.3271 - val_accuracy: 0.8197\n",
            "Epoch 21/100\n",
            "16/16 [==============================] - 0s 5ms/step - loss: 0.2891 - accuracy: 0.8636 - val_loss: 0.3467 - val_accuracy: 0.8197\n",
            "Epoch 22/100\n",
            "16/16 [==============================] - 0s 5ms/step - loss: 0.3111 - accuracy: 0.8595 - val_loss: 0.3455 - val_accuracy: 0.8197\n",
            "Epoch 23/100\n",
            "16/16 [==============================] - 0s 5ms/step - loss: 0.2848 - accuracy: 0.8843 - val_loss: 0.3406 - val_accuracy: 0.8033\n",
            "Epoch 24/100\n",
            "16/16 [==============================] - 0s 5ms/step - loss: 0.3018 - accuracy: 0.8595 - val_loss: 0.3295 - val_accuracy: 0.8197\n",
            "Epoch 25/100\n",
            "16/16 [==============================] - 2s 118ms/step - loss: 0.3011 - accuracy: 0.8471 - val_loss: 0.3151 - val_accuracy: 0.8361\n",
            "Epoch 26/100\n",
            "16/16 [==============================] - 2s 118ms/step - loss: 0.2862 - accuracy: 0.8802 - val_loss: 0.3109 - val_accuracy: 0.8361\n",
            "Epoch 27/100\n",
            "16/16 [==============================] - 0s 5ms/step - loss: 0.2800 - accuracy: 0.8595 - val_loss: 0.3236 - val_accuracy: 0.8361\n",
            "Epoch 28/100\n",
            "16/16 [==============================] - 0s 5ms/step - loss: 0.2867 - accuracy: 0.8884 - val_loss: 0.3311 - val_accuracy: 0.8525\n",
            "Epoch 29/100\n",
            "16/16 [==============================] - 0s 5ms/step - loss: 0.2816 - accuracy: 0.8843 - val_loss: 0.3187 - val_accuracy: 0.8525\n",
            "Epoch 30/100\n",
            "16/16 [==============================] - 0s 5ms/step - loss: 0.2688 - accuracy: 0.8678 - val_loss: 0.3256 - val_accuracy: 0.8033\n",
            "Epoch 31/100\n",
            "16/16 [==============================] - 0s 5ms/step - loss: 0.2710 - accuracy: 0.8636 - val_loss: 0.3520 - val_accuracy: 0.8197\n",
            "Epoch 32/100\n",
            "16/16 [==============================] - 0s 5ms/step - loss: 0.2885 - accuracy: 0.8760 - val_loss: 0.3460 - val_accuracy: 0.8361\n",
            "Epoch 33/100\n",
            "16/16 [==============================] - 0s 5ms/step - loss: 0.2859 - accuracy: 0.8471 - val_loss: 0.3212 - val_accuracy: 0.8361\n",
            "Epoch 34/100\n",
            "16/16 [==============================] - 2s 147ms/step - loss: 0.2961 - accuracy: 0.8388 - val_loss: 0.3084 - val_accuracy: 0.8197\n",
            "Epoch 35/100\n",
            "16/16 [==============================] - 0s 5ms/step - loss: 0.2815 - accuracy: 0.8678 - val_loss: 0.3548 - val_accuracy: 0.8525\n",
            "Epoch 36/100\n",
            "16/16 [==============================] - 0s 5ms/step - loss: 0.2903 - accuracy: 0.8678 - val_loss: 0.3420 - val_accuracy: 0.8361\n",
            "Epoch 37/100\n",
            "16/16 [==============================] - 0s 5ms/step - loss: 0.2618 - accuracy: 0.8884 - val_loss: 0.3424 - val_accuracy: 0.8525\n",
            "Epoch 38/100\n",
            "16/16 [==============================] - 0s 5ms/step - loss: 0.2532 - accuracy: 0.8719 - val_loss: 0.3419 - val_accuracy: 0.8525\n",
            "Epoch 39/100\n",
            "16/16 [==============================] - 0s 5ms/step - loss: 0.3008 - accuracy: 0.8636 - val_loss: 0.3153 - val_accuracy: 0.8525\n",
            "Epoch 40/100\n",
            "16/16 [==============================] - 0s 5ms/step - loss: 0.2556 - accuracy: 0.8678 - val_loss: 0.3218 - val_accuracy: 0.8361\n",
            "Epoch 41/100\n",
            "16/16 [==============================] - 0s 5ms/step - loss: 0.2569 - accuracy: 0.8760 - val_loss: 0.3205 - val_accuracy: 0.8361\n",
            "Epoch 42/100\n",
            "16/16 [==============================] - 0s 5ms/step - loss: 0.2694 - accuracy: 0.8802 - val_loss: 0.3531 - val_accuracy: 0.8197\n",
            "Epoch 43/100\n",
            "16/16 [==============================] - 0s 5ms/step - loss: 0.2712 - accuracy: 0.8636 - val_loss: 0.3518 - val_accuracy: 0.8197\n",
            "Epoch 44/100\n",
            "16/16 [==============================] - 0s 5ms/step - loss: 0.2463 - accuracy: 0.8802 - val_loss: 0.3704 - val_accuracy: 0.8361\n"
          ]
        }
      ],
      "source": [
        "from keras.callbacks import EarlyStopping, ModelCheckpoint, TensorBoard\n",
        "callbacks_list = [EarlyStopping(monitor=\"val_loss\", patience=10),\n",
        "                  ModelCheckpoint(\"mnist_model_checkpoint\", save_best_only=True),\n",
        "                  TensorBoard(log_dir=\"./tensorboard_files\")\n",
        "                  ]\n",
        "\n",
        "# Training the model\n",
        "history = model.fit(\n",
        "    train_ds_batch,\n",
        "    epochs=100,\n",
        "    validation_data=val_ds_batch,\n",
        "    callbacks= callbacks_list\n",
        ")"
      ]
    },
    {
      "cell_type": "markdown",
      "metadata": {
        "id": "ZDrBzU1jaxsY"
      },
      "source": [
        "## Inference on new data [1 Mark]\n",
        "\n",
        "To get a prediction for a new sample, you can simply call `model.predict()`. There are\n",
        "just two things you need to do:\n",
        "\n",
        "1. wrap scalars into a list so as to have a batch dimension (models only process batches\n",
        "of data, not single samples)\n",
        "2. Call `convert_to_tensor` on each feature\n",
        "\n",
        "Note : The predicted output should be either 0  or 1 based on a threshold value of probability 0.5."
      ]
    },
    {
      "cell_type": "code",
      "execution_count": 21,
      "metadata": {
        "id": "9OHghLcbaxsY",
        "colab": {
          "base_uri": "https://localhost:8080/"
        },
        "outputId": "9c53f890-abfd-44a5-f425-ffe39819887d"
      },
      "outputs": [
        {
          "output_type": "stream",
          "name": "stdout",
          "text": [
            "1/1 [==============================] - 0s 202ms/step\n",
            "Predicted: 0, Actual: 0\n"
          ]
        },
        {
          "output_type": "stream",
          "name": "stderr",
          "text": [
            "/usr/local/lib/python3.10/dist-packages/keras/src/engine/functional.py:642: UserWarning: Input dict contained keys ['target'] which did not match any model input. They will be ignored by the model.\n",
            "  inputs = self._flatten_to_reference_inputs(inputs)\n"
          ]
        }
      ],
      "source": [
        "sample = {\n",
        "    \"age\": 63,\n",
        "    \"sex\": 2,\n",
        "    \"cp\": 1,\n",
        "    \"trestbps\": 145,\n",
        "    \"chol\": 233,\n",
        "    \"fbs\": 1,\n",
        "    \"restecg\": 2,\n",
        "    \"thalach\": 150,\n",
        "    \"exang\": 0,\n",
        "    \"oldpeak\": 2.3,\n",
        "    \"slope\": 3,\n",
        "    \"ca\": 0,\n",
        "    \"thal\": \"fixed\",\n",
        "    \"target\": 0\n",
        "}\n",
        "label = sample['target']  # Ensure 'target' is the column name for labels in your DataFrame\n",
        "\n",
        "input_dict = {name: tf.convert_to_tensor([value]) for name, value in sample.items()}\n",
        "predictions = model.predict(input_dict)\n",
        "\n",
        "predicted_label = 1 if predictions > 0.5 else 0  # Adjust based on your model's output structure\n",
        "\n",
        "# Print the predicted label and the true label\n",
        "print(f\"Predicted: {predicted_label}, Actual: {label}\")\n"
      ]
    },
    {
      "cell_type": "markdown",
      "source": [
        "## Hyperparameter tuning\n",
        "**Keras tuner**"
      ],
      "metadata": {
        "id": "ArxF3ZrHKOVw"
      }
    },
    {
      "cell_type": "code",
      "source": [
        "!pip install keras-tuner\n"
      ],
      "metadata": {
        "colab": {
          "base_uri": "https://localhost:8080/"
        },
        "id": "jJWZqwm7KTRC",
        "outputId": "de25cf52-ccec-435c-eda8-98c808477aee"
      },
      "execution_count": 22,
      "outputs": [
        {
          "output_type": "stream",
          "name": "stdout",
          "text": [
            "Collecting keras-tuner\n",
            "  Downloading keras_tuner-1.4.7-py3-none-any.whl (129 kB)\n",
            "\u001b[?25l     \u001b[90m━━━━━━━━━━━━━━━━━━━━━━━━━━━━━━━━━━━━━━━━\u001b[0m \u001b[32m0.0/129.1 kB\u001b[0m \u001b[31m?\u001b[0m eta \u001b[36m-:--:--\u001b[0m\r\u001b[2K     \u001b[91m━━━━━━━━━━━━\u001b[0m\u001b[91m╸\u001b[0m\u001b[90m━━━━━━━━━━━━━━━━━━━━━━━━━━━\u001b[0m \u001b[32m41.0/129.1 kB\u001b[0m \u001b[31m998.7 kB/s\u001b[0m eta \u001b[36m0:00:01\u001b[0m\r\u001b[2K     \u001b[91m━━━━━━━━━━━━━━━━━━━━━━━━━━━━━━━━━━━━━━\u001b[0m\u001b[90m╺\u001b[0m\u001b[90m━\u001b[0m \u001b[32m122.9/129.1 kB\u001b[0m \u001b[31m1.7 MB/s\u001b[0m eta \u001b[36m0:00:01\u001b[0m\r\u001b[2K     \u001b[90m━━━━━━━━━━━━━━━━━━━━━━━━━━━━━━━━━━━━━━━━\u001b[0m \u001b[32m129.1/129.1 kB\u001b[0m \u001b[31m1.6 MB/s\u001b[0m eta \u001b[36m0:00:00\u001b[0m\n",
            "\u001b[?25hRequirement already satisfied: keras in /usr/local/lib/python3.10/dist-packages (from keras-tuner) (2.15.0)\n",
            "Requirement already satisfied: packaging in /usr/local/lib/python3.10/dist-packages (from keras-tuner) (24.0)\n",
            "Requirement already satisfied: requests in /usr/local/lib/python3.10/dist-packages (from keras-tuner) (2.31.0)\n",
            "Collecting kt-legacy (from keras-tuner)\n",
            "  Downloading kt_legacy-1.0.5-py3-none-any.whl (9.6 kB)\n",
            "Requirement already satisfied: charset-normalizer<4,>=2 in /usr/local/lib/python3.10/dist-packages (from requests->keras-tuner) (3.3.2)\n",
            "Requirement already satisfied: idna<4,>=2.5 in /usr/local/lib/python3.10/dist-packages (from requests->keras-tuner) (3.7)\n",
            "Requirement already satisfied: urllib3<3,>=1.21.1 in /usr/local/lib/python3.10/dist-packages (from requests->keras-tuner) (2.0.7)\n",
            "Requirement already satisfied: certifi>=2017.4.17 in /usr/local/lib/python3.10/dist-packages (from requests->keras-tuner) (2024.2.2)\n",
            "Installing collected packages: kt-legacy, keras-tuner\n",
            "Successfully installed keras-tuner-1.4.7 kt-legacy-1.0.5\n"
          ]
        }
      ]
    },
    {
      "cell_type": "code",
      "source": [
        "import keras_tuner as kt\n",
        "from tensorflow import keras\n",
        "from tensorflow.keras import layers\n",
        "\n",
        "def build_model(hp):\n",
        "    all_encoded_features = [\n",
        "    sex_encoded, cp_encoded, fbs_encoded, restecg_encoded, exang_encoded, ca_encoded,\n",
        "    thal_encoded, age_encoded, trestbps_encoded, chol_encoded, thalach_encoded, oldpeak_encoded, slope_encoded]\n",
        "\n",
        "    # Concatenate all encoded inputs\n",
        "    all_features = layers.concatenate(all_encoded_features)\n",
        "\n",
        "    # Hyperparameters for the number of units and dropout in each Dense layer\n",
        "    x = all_features\n",
        "    for i in range(hp.Int('num_layers', 2, 5)):  # Tuning the number of layers between 2 and 5\n",
        "        x = layers.Dense(\n",
        "            units=hp.Int('units_' + str(i), min_value=32, max_value=512, step=32),\n",
        "            activation='relu'\n",
        "        )(x)\n",
        "        x = layers.Dropout(\n",
        "            rate=hp.Float('dropout_' + str(i), min_value=0.2, max_value=0.5, step=0.1)\n",
        "        )(x)\n",
        "\n",
        "    # Output layer for binary classification\n",
        "    output = layers.Dense(1, activation='sigmoid')(x)\n",
        "\n",
        "    # Create and compile the model\n",
        "    model = keras.Model(inputs=all_inputs, outputs=output)\n",
        "    model.compile(\n",
        "        optimizer=keras.optimizers.Adam(\n",
        "            learning_rate=hp.Float('learning_rate', min_value=1e-4, max_value=1e-2, sampling='LOG')),\n",
        "        loss='binary_crossentropy',\n",
        "        metrics=['accuracy']\n",
        "    )\n",
        "    return model\n"
      ],
      "metadata": {
        "id": "wTSvL7CqKUs4"
      },
      "execution_count": 23,
      "outputs": []
    },
    {
      "cell_type": "code",
      "source": [
        "# Create a tuner. You can choose among RandomSearch, Hyperband, BayesianOptimization, etc.\n",
        "tuner = kt.Hyperband(\n",
        "    build_model,\n",
        "    objective='val_accuracy',\n",
        "    max_epochs=10,\n",
        "    factor=3,\n",
        "    directory='my_dir',\n",
        "    project_name='intro_to_kt'\n",
        ")\n",
        "\n",
        "# Early stopping callback to prevent overfitting\n",
        "stop_early = keras.callbacks.EarlyStopping(monitor='val_loss', patience=5)\n"
      ],
      "metadata": {
        "id": "mbPifaBKKgXq"
      },
      "execution_count": 24,
      "outputs": []
    },
    {
      "cell_type": "code",
      "source": [
        "# Assuming train_ds and val_ds are your training and validation datasets\n",
        "tuner.search(train_ds_batch, validation_data=val_ds_batch, epochs=50, callbacks=[stop_early])\n",
        "\n",
        "# Get the optimal hyperparameters\n",
        "best_hps = tuner.get_best_hyperparameters(num_trials=1)[0]\n",
        "print(f\"Best number of layers: {best_hps.get('num_layers')}\")\n",
        "for i in range(best_hps.get('num_layers')):\n",
        "    print(f\"Best units in layer {i}: {best_hps.get('units_' + str(i))}\")\n",
        "    print(f\"Best dropout in layer {i}: {best_hps.get('dropout_' + str(i))}\")\n",
        "print(f\"Best learning rate: {best_hps.get('learning_rate')}\")\n"
      ],
      "metadata": {
        "colab": {
          "base_uri": "https://localhost:8080/"
        },
        "id": "rIQSm7wLKiVj",
        "outputId": "2db58c05-454e-4c25-c98c-f619bff50759"
      },
      "execution_count": 25,
      "outputs": [
        {
          "output_type": "stream",
          "name": "stdout",
          "text": [
            "Trial 30 Complete [00h 00m 03s]\n",
            "val_accuracy: 0.8524590134620667\n",
            "\n",
            "Best val_accuracy So Far: 0.8524590134620667\n",
            "Total elapsed time: 00h 01m 13s\n",
            "Best number of layers: 3\n",
            "Best units in layer 0: 320\n",
            "Best dropout in layer 0: 0.4\n",
            "Best units in layer 1: 256\n",
            "Best dropout in layer 1: 0.30000000000000004\n",
            "Best units in layer 2: 32\n",
            "Best dropout in layer 2: 0.4\n",
            "Best learning rate: 0.0013448774790511659\n"
          ]
        }
      ]
    },
    {
      "cell_type": "code",
      "source": [
        "# Retrieve the best model\n",
        "best_model = tuner.get_best_models(num_models=1)[0]\n",
        "\n",
        "# Evaluate the best model\n",
        "loss, accuracy = best_model.evaluate(val_ds_batch)\n",
        "print(f\"Best model accuracy: {accuracy}\")\n"
      ],
      "metadata": {
        "colab": {
          "base_uri": "https://localhost:8080/"
        },
        "id": "fvZvA6A2KjZz",
        "outputId": "ff302b8a-5e8e-4b8f-98f6-7058ba46122e"
      },
      "execution_count": 26,
      "outputs": [
        {
          "output_type": "stream",
          "name": "stdout",
          "text": [
            "4/4 [==============================] - 0s 4ms/step - loss: 0.3423 - accuracy: 0.8525\n",
            "Best model accuracy: 0.8524590134620667\n"
          ]
        }
      ]
    },
    {
      "cell_type": "code",
      "source": [
        "best_model.summary()"
      ],
      "metadata": {
        "colab": {
          "base_uri": "https://localhost:8080/"
        },
        "id": "Z1mruZdjRLuW",
        "outputId": "196cd0c8-12f6-4cd0-bf0a-41505453c5c7"
      },
      "execution_count": 30,
      "outputs": [
        {
          "output_type": "stream",
          "name": "stdout",
          "text": [
            "Model: \"model\"\n",
            "__________________________________________________________________________________________________\n",
            " Layer (type)                Output Shape                 Param #   Connected to                  \n",
            "==================================================================================================\n",
            " age (InputLayer)            [(None, 1)]                  0         []                            \n",
            "                                                                                                  \n",
            " trestbps (InputLayer)       [(None, 1)]                  0         []                            \n",
            "                                                                                                  \n",
            " chol (InputLayer)           [(None, 1)]                  0         []                            \n",
            "                                                                                                  \n",
            " thalach (InputLayer)        [(None, 1)]                  0         []                            \n",
            "                                                                                                  \n",
            " oldpeak (InputLayer)        [(None, 1)]                  0         []                            \n",
            "                                                                                                  \n",
            " slope (InputLayer)          [(None, 1)]                  0         []                            \n",
            "                                                                                                  \n",
            " sex (InputLayer)            [(None, 1)]                  0         []                            \n",
            "                                                                                                  \n",
            " cp (InputLayer)             [(None, 1)]                  0         []                            \n",
            "                                                                                                  \n",
            " fbs (InputLayer)            [(None, 1)]                  0         []                            \n",
            "                                                                                                  \n",
            " restecg (InputLayer)        [(None, 1)]                  0         []                            \n",
            "                                                                                                  \n",
            " exang (InputLayer)          [(None, 1)]                  0         []                            \n",
            "                                                                                                  \n",
            " ca (InputLayer)             [(None, 1)]                  0         []                            \n",
            "                                                                                                  \n",
            " thal (InputLayer)           [(None, 1)]                  0         []                            \n",
            "                                                                                                  \n",
            " normalization (Normalizati  (None, 1)                    3         ['age[0][0]']                 \n",
            " on)                                                                                              \n",
            "                                                                                                  \n",
            " normalization_1 (Normaliza  (None, 1)                    3         ['trestbps[0][0]']            \n",
            " tion)                                                                                            \n",
            "                                                                                                  \n",
            " normalization_2 (Normaliza  (None, 1)                    3         ['chol[0][0]']                \n",
            " tion)                                                                                            \n",
            "                                                                                                  \n",
            " normalization_3 (Normaliza  (None, 1)                    3         ['thalach[0][0]']             \n",
            " tion)                                                                                            \n",
            "                                                                                                  \n",
            " normalization_4 (Normaliza  (None, 1)                    3         ['oldpeak[0][0]']             \n",
            " tion)                                                                                            \n",
            "                                                                                                  \n",
            " normalization_5 (Normaliza  (None, 1)                    3         ['slope[0][0]']               \n",
            " tion)                                                                                            \n",
            "                                                                                                  \n",
            " integer_lookup (IntegerLoo  (None, 1)                    0         ['sex[0][0]']                 \n",
            " kup)                                                                                             \n",
            "                                                                                                  \n",
            " integer_lookup_1 (IntegerL  (None, 1)                    0         ['cp[0][0]']                  \n",
            " ookup)                                                                                           \n",
            "                                                                                                  \n",
            " integer_lookup_2 (IntegerL  (None, 1)                    0         ['fbs[0][0]']                 \n",
            " ookup)                                                                                           \n",
            "                                                                                                  \n",
            " integer_lookup_3 (IntegerL  (None, 1)                    0         ['restecg[0][0]']             \n",
            " ookup)                                                                                           \n",
            "                                                                                                  \n",
            " integer_lookup_4 (IntegerL  (None, 1)                    0         ['exang[0][0]']               \n",
            " ookup)                                                                                           \n",
            "                                                                                                  \n",
            " integer_lookup_5 (IntegerL  (None, 1)                    0         ['ca[0][0]']                  \n",
            " ookup)                                                                                           \n",
            "                                                                                                  \n",
            " string_lookup (StringLooku  (None, 1)                    0         ['thal[0][0]']                \n",
            " p)                                                                                               \n",
            "                                                                                                  \n",
            " tf.cast (TFOpLambda)        (None, 1)                    0         ['normalization[0][0]']       \n",
            "                                                                                                  \n",
            " tf.cast_1 (TFOpLambda)      (None, 1)                    0         ['normalization_1[0][0]']     \n",
            "                                                                                                  \n",
            " tf.cast_2 (TFOpLambda)      (None, 1)                    0         ['normalization_2[0][0]']     \n",
            "                                                                                                  \n",
            " tf.cast_3 (TFOpLambda)      (None, 1)                    0         ['normalization_3[0][0]']     \n",
            "                                                                                                  \n",
            " tf.cast_4 (TFOpLambda)      (None, 1)                    0         ['normalization_4[0][0]']     \n",
            "                                                                                                  \n",
            " tf.cast_5 (TFOpLambda)      (None, 1)                    0         ['normalization_5[0][0]']     \n",
            "                                                                                                  \n",
            " concatenate (Concatenate)   (None, 13)                   0         ['integer_lookup[0][0]',      \n",
            "                                                                     'integer_lookup_1[0][0]',    \n",
            "                                                                     'integer_lookup_2[0][0]',    \n",
            "                                                                     'integer_lookup_3[0][0]',    \n",
            "                                                                     'integer_lookup_4[0][0]',    \n",
            "                                                                     'integer_lookup_5[0][0]',    \n",
            "                                                                     'string_lookup[0][0]',       \n",
            "                                                                     'tf.cast[0][0]',             \n",
            "                                                                     'tf.cast_1[0][0]',           \n",
            "                                                                     'tf.cast_2[0][0]',           \n",
            "                                                                     'tf.cast_3[0][0]',           \n",
            "                                                                     'tf.cast_4[0][0]',           \n",
            "                                                                     'tf.cast_5[0][0]']           \n",
            "                                                                                                  \n",
            " dense (Dense)               (None, 320)                  4480      ['concatenate[0][0]']         \n",
            "                                                                                                  \n",
            " dropout (Dropout)           (None, 320)                  0         ['dense[0][0]']               \n",
            "                                                                                                  \n",
            " dense_1 (Dense)             (None, 256)                  82176     ['dropout[0][0]']             \n",
            "                                                                                                  \n",
            " dropout_1 (Dropout)         (None, 256)                  0         ['dense_1[0][0]']             \n",
            "                                                                                                  \n",
            " dense_2 (Dense)             (None, 32)                   8224      ['dropout_1[0][0]']           \n",
            "                                                                                                  \n",
            " dropout_2 (Dropout)         (None, 32)                   0         ['dense_2[0][0]']             \n",
            "                                                                                                  \n",
            " dense_3 (Dense)             (None, 1)                    33        ['dropout_2[0][0]']           \n",
            "                                                                                                  \n",
            "==================================================================================================\n",
            "Total params: 94931 (370.85 KB)\n",
            "Trainable params: 94913 (370.75 KB)\n",
            "Non-trainable params: 18 (96.00 Byte)\n",
            "__________________________________________________________________________________________________\n"
          ]
        }
      ]
    },
    {
      "cell_type": "code",
      "source": [
        "MODEL_PATH = 'best_model'"
      ],
      "metadata": {
        "id": "i8OIKnl5Obxq"
      },
      "execution_count": 27,
      "outputs": []
    },
    {
      "cell_type": "code",
      "source": [
        "# Save the best model\n",
        "# Retrieve the best model\n",
        "best_model = tuner.get_best_models(num_models=1)[0]\n",
        "\n",
        "# Save the best model\n",
        "best_model.save(MODEL_PATH)  # Save to HDF5 or SavedModel format (TF 2.x+ default)\n"
      ],
      "metadata": {
        "id": "9233Yr8jNQJH"
      },
      "execution_count": 28,
      "outputs": []
    },
    {
      "cell_type": "code",
      "source": [
        "# Load model\n",
        "from tensorflow import keras\n",
        "\n",
        "# Load the previously saved model\n",
        "loaded_model = keras.models.load_model(MODEL_PATH)\n",
        "\n",
        "# Now, `loaded_model` is ready to be used for predictions or evaluation\n"
      ],
      "metadata": {
        "id": "JCvgzZnJNY-S"
      },
      "execution_count": 29,
      "outputs": []
    },
    {
      "cell_type": "markdown",
      "source": [
        "### Analyse the model"
      ],
      "metadata": {
        "id": "iUlw9PR9R9qE"
      }
    },
    {
      "cell_type": "markdown",
      "source": [
        "#### Confusion Matrix"
      ],
      "metadata": {
        "id": "xg8e1HypSI6W"
      }
    },
    {
      "cell_type": "code",
      "source": [
        "from sklearn.metrics import confusion_matrix, classification_report\n",
        "import numpy as np\n",
        "import matplotlib.pyplot as plt\n",
        "import seaborn as sns\n",
        "\n",
        "# Predict classes with the best model\n",
        "y_pred = np.argmax(best_model.predict(val_ds_batch), axis=1)\n",
        "y_true = np.concatenate([y for x, y in val_ds_batch], axis=0)\n",
        "\n",
        "# Generate the confusion matrix\n",
        "cm = confusion_matrix(y_true, y_pred)\n",
        "\n",
        "# Plot the confusion matrix\n",
        "plt.figure(figsize=(10,7))\n",
        "sns.heatmap(cm, annot=True, fmt='d')\n",
        "plt.xlabel('Predicted')\n",
        "plt.ylabel('True')\n",
        "plt.show()\n"
      ],
      "metadata": {
        "colab": {
          "base_uri": "https://localhost:8080/",
          "height": 637
        },
        "id": "BG13AdLiSAUN",
        "outputId": "39dd0389-f5cd-4def-d8d5-207bf005076e"
      },
      "execution_count": 31,
      "outputs": [
        {
          "output_type": "stream",
          "name": "stdout",
          "text": [
            "4/4 [==============================] - 0s 3ms/step\n"
          ]
        },
        {
          "output_type": "display_data",
          "data": {
            "text/plain": [
              "<Figure size 1000x700 with 2 Axes>"
            ],
            "image/png": "[encoded data removed]"
          },
          "metadata": {}
        }
      ]
    },
    {
      "cell_type": "markdown",
      "source": [
        "#### Classification Report"
      ],
      "metadata": {
        "id": "c4MzUd5wSMBc"
      }
    },
    {
      "cell_type": "code",
      "source": [
        "print(classification_report(y_true, y_pred))"
      ],
      "metadata": {
        "colab": {
          "base_uri": "https://localhost:8080/"
        },
        "id": "B98nQ4dnSNsp",
        "outputId": "91f6fec2-7526-493f-eb8b-ea9533fa0f22"
      },
      "execution_count": 32,
      "outputs": [
        {
          "output_type": "stream",
          "name": "stdout",
          "text": [
            "              precision    recall  f1-score   support\n",
            "\n",
            "           0       0.70      1.00      0.83        43\n",
            "           1       0.00      0.00      0.00        18\n",
            "\n",
            "    accuracy                           0.70        61\n",
            "   macro avg       0.35      0.50      0.41        61\n",
            "weighted avg       0.50      0.70      0.58        61\n",
            "\n"
          ]
        },
        {
          "output_type": "stream",
          "name": "stderr",
          "text": [
            "/usr/local/lib/python3.10/dist-packages/sklearn/metrics/_classification.py:1344: UndefinedMetricWarning: Precision and F-score are ill-defined and being set to 0.0 in labels with no predicted samples. Use `zero_division` parameter to control this behavior.\n",
            "  _warn_prf(average, modifier, msg_start, len(result))\n",
            "/usr/local/lib/python3.10/dist-packages/sklearn/metrics/_classification.py:1344: UndefinedMetricWarning: Precision and F-score are ill-defined and being set to 0.0 in labels with no predicted samples. Use `zero_division` parameter to control this behavior.\n",
            "  _warn_prf(average, modifier, msg_start, len(result))\n",
            "/usr/local/lib/python3.10/dist-packages/sklearn/metrics/_classification.py:1344: UndefinedMetricWarning: Precision and F-score are ill-defined and being set to 0.0 in labels with no predicted samples. Use `zero_division` parameter to control this behavior.\n",
            "  _warn_prf(average, modifier, msg_start, len(result))\n"
          ]
        }
      ]
    },
    {
      "cell_type": "markdown",
      "source": [
        "#### ROC AND AUC Curve"
      ],
      "metadata": {
        "id": "UDVL9qBdSPQy"
      }
    },
    {
      "cell_type": "code",
      "source": [
        "from sklearn.metrics import roc_curve, auc\n",
        "\n",
        "# Compute ROC curve and ROC area\n",
        "fpr, tpr, _ = roc_curve(y_true, best_model.predict(val_ds_batch).ravel())\n",
        "roc_auc = auc(fpr, tpr)\n",
        "\n",
        "# Plot ROC curve\n",
        "plt.figure()\n",
        "lw = 2\n",
        "plt.plot(fpr, tpr, color='darkorange',\n",
        "         lw=lw, label='ROC curve (area = %0.2f)' % roc_auc)\n",
        "plt.plot([0, 1], [0, 1], color='navy', lw=lw, linestyle='--')\n",
        "plt.xlim([0.0, 1.0])\n",
        "plt.ylim([0.0, 1.05])\n",
        "plt.xlabel('False Positive Rate')\n",
        "plt.ylabel('True Positive Rate')\n",
        "plt.title('Receiver Operating Characteristic')\n",
        "plt.legend(loc=\"lower right\")\n",
        "plt.show()\n"
      ],
      "metadata": {
        "colab": {
          "base_uri": "https://localhost:8080/",
          "height": 490
        },
        "id": "ZxbeD8HcSRcJ",
        "outputId": "cbe8c05f-8f7e-4582-b248-efa1c3478791"
      },
      "execution_count": 33,
      "outputs": [
        {
          "output_type": "stream",
          "name": "stdout",
          "text": [
            "4/4 [==============================] - 0s 2ms/step\n"
          ]
        },
        {
          "output_type": "display_data",
          "data": {
            "text/plain": [
              "<Figure size 640x480 with 1 Axes>"
            ],
            "image/png": "[encoded data removed]"
          },
          "metadata": {}
        }
      ]
    },
    {
      "cell_type": "markdown",
      "source": [
        "#### Learning Curve"
      ],
      "metadata": {
        "id": "d6g3o0BtSUHE"
      }
    },
    {
      "cell_type": "code",
      "source": [
        "plt.plot(history.history['accuracy'])\n",
        "plt.plot(history.history['val_accuracy'])\n",
        "plt.title('Model Accuracy')\n",
        "plt.ylabel('Accuracy')\n",
        "plt.xlabel('Epoch')\n",
        "plt.legend(['Train', 'Validation'], loc='upper left')\n",
        "plt.show()\n",
        "\n",
        "plt.plot(history.history['loss'])\n",
        "plt.plot(history.history['val_loss'])\n",
        "plt.title('Model Loss')\n",
        "plt.ylabel('Loss')\n",
        "plt.xlabel('Epoch')\n",
        "plt.legend(['Train', 'Validation'], loc='upper left')\n",
        "plt.show()\n"
      ],
      "metadata": {
        "colab": {
          "base_uri": "https://localhost:8080/",
          "height": 927
        },
        "id": "Co6bGSNrSWAX",
        "outputId": "e8b8bb07-b3c3-4ff6-b04a-2d558d85861a"
      },
      "execution_count": 34,
      "outputs": [
        {
          "output_type": "display_data",
          "data": {
            "text/plain": [
              "<Figure size 640x480 with 1 Axes>"
            ],
            "image/png": "[encoded data removed]"
          },
          "metadata": {}
        },
        {
          "output_type": "display_data",
          "data": {
            "text/plain": [
              "<Figure size 640x480 with 1 Axes>"
            ],
            "image/png": "[encoded data removed]"
          },
          "metadata": {}
        }
      ]
    }
  ],
  "metadata": {
    "colab": {
      "provenance": [],
      "gpuType": "V28",
      "include_colab_link": true
    },
    "kernelspec": {
      "display_name": "Python 3",
      "name": "python3"
    },
    "language_info": {
      "codemirror_mode": {
        "name": "ipython",
        "version": 3
      },
      "file_extension": ".py",
      "mimetype": "text/x-python",
      "name": "python",
      "nbconvert_exporter": "python",
      "pygments_lexer": "ipython3",
      "version": "3.7.0"
    },
    "accelerator": "TPU"
  },
  "nbformat": 4,
  "nbformat_minor": 0
}